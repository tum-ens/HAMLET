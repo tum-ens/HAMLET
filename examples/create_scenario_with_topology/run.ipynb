{
 "cells": [
  {
   "metadata": {},
   "cell_type": "markdown",
   "source": "# Simple scenario",
   "id": "52cee6f9fac9b8d8"
  },
  {
   "metadata": {},
   "cell_type": "markdown",
   "source": [
    "## Introduction\n",
    "\n",
    "This notebook is based on the \"create_simple_scenario\" scenario. It expands its functionality by including the generation of an electricity grid using a grid topology.\n",
    "\n",
    "HAMLET allows the user to create a grid topology and assign agents to it after they are created. In contrast, when creating the scenario from the grid file, the agents and their devices are also defined there. "
   ],
   "id": "a40d04d2a8e7e84"
  },
  {
   "metadata": {},
   "cell_type": "markdown",
   "source": [
    "### Required Files\n",
    "\n",
    "The scenario setup uses the following files:\n",
    "- **YAML files:** Define configuration for agents (`agents.yaml`), grids (`grids.yaml`), markets (`markets.yaml`), and scenario setup (`setup.yaml`).\n",
    "- **Excel files:** Contain structured data for agents (`agents.xlsx`) and the grid topology (`typology.xlsx`).\n",
    "\n",
    "All files are placed in a structured folder (`scenario_with_topology`). Its name will automatically be used for the scenario name (unless overwritten)."
   ],
   "id": "f713a1df4e1705bf"
  },
  {
   "metadata": {
    "ExecuteTime": {
     "end_time": "2025-03-26T13:22:01.957977Z",
     "start_time": "2025-03-26T13:21:49.617365Z"
    }
   },
   "cell_type": "code",
   "source": "from hamlet import Creator, Executor, Analyzer",
   "id": "7a9661ed99114011",
   "outputs": [],
   "execution_count": 1
  },
  {
   "metadata": {},
   "cell_type": "markdown",
   "source": [
    "## Step 1: Scenario Creation\n",
    "\n",
    "This step generates the scenario based on YAML and Excel configurations. This time we use the `agents.xlsx` file directly to create the scenario instead of creating one from the `agents.yaml` file."
   ],
   "id": "5d6a032eefeadc54"
  },
  {
   "metadata": {
    "ExecuteTime": {
     "end_time": "2025-03-26T13:22:01.963479Z",
     "start_time": "2025-03-26T13:22:01.958993Z"
    }
   },
   "cell_type": "code",
   "source": [
    "# Path to the scenario configuration folder\n",
    "name = \"scenario_with_topology\"\n",
    "path_configs = f\"./{name}\""
   ],
   "id": "fa6cfa9f90b0fce4",
   "outputs": [],
   "execution_count": 2
  },
  {
   "metadata": {
    "ExecuteTime": {
     "end_time": "2025-03-26T13:22:04.022954Z",
     "start_time": "2025-03-26T13:22:01.964487Z"
    }
   },
   "cell_type": "code",
   "source": [
    "# Instantiate Creator and generate the scenario\n",
    "creator = Creator(path=path_configs)\n",
    "creator.new_scenario_from_files()"
   ],
   "id": "4014920d7f11679d",
   "outputs": [
    {
     "name": "stderr",
     "output_type": "stream",
     "text": [
      "Successfully created scenario: 100%|██████████| 9/9 [00:02<00:00,  5.01it/s]                                                              "
     ]
    }
   ],
   "execution_count": 3
  },
  {
   "metadata": {},
   "cell_type": "markdown",
   "source": [
    "## Step 2: Assign Agents to Grid\n",
    "\n",
    "Once the scenario is created, the agents can be assigned to the grid. You can assign multiple agents to the same node. Follow the steps below to assign agents to the grid:\n",
    "\n",
    "1. Open the `topology.xlsx` file in Excel. You can find it under `./scenarios/scenario_with_topology/grids/electricity/topology.xlsx`.\n",
    "2. Navigate to the `bus` tab.\n",
    "3. Assign the agent IDs to the corresponding bus IDs. Use the `agent` column. If you want to assign more than one agent to a bus, you need to add more columns starting with `agent`. You need to add one agent ID per column.\n",
    "\n",
    "Note: You can find the agent IDs in the `general/agent_ID` column of the `agents.xlsx` file which can be found under `./scenarios/scenario_with_topology/config/agents.xlsx`.\n",
    "\n",
    "An example on how this can be done is shown in `topology_assigned.xlsx` which is located in the `market_with_topology` folder.\n"
   ],
   "id": "7a7cfb8da9b3a771"
  },
  {
   "metadata": {},
   "cell_type": "markdown",
   "source": [
    "## Step 3: Scenario Execution\n",
    "\n",
    "Execute the scenario created previously. Hamlet runs the defined scenario and produces results.\n",
    "\n",
    "The `num_workers` parameter defines how many CPU cores to use for simulation. It is set to one to not call multiprocessing. To use multiprocessing you preferably call it from a python file using the following command:\n",
    "\n",
    "```python\n",
    "\n",
    "if __name__ == \"__main__\":\n",
    "    sim = Executor(path)\n",
    "    sim.run()\n"
   ],
   "id": "569d0670471dcc"
  },
  {
   "metadata": {
    "ExecuteTime": {
     "end_time": "2025-03-26T13:29:34.230898Z",
     "start_time": "2025-03-26T13:29:34.227257Z"
    }
   },
   "cell_type": "code",
   "source": [
    "# Path to the scenario created\n",
    "path_scenario = f\"../../scenarios/{name}\""
   ],
   "id": "7e86ab74409d552c",
   "outputs": [],
   "execution_count": 4
  },
  {
   "metadata": {
    "ExecuteTime": {
     "end_time": "2025-03-26T13:33:40.318686Z",
     "start_time": "2025-03-26T13:32:31.901549Z"
    }
   },
   "cell_type": "code",
   "source": [
    "# Instantiate Executor and run the simulation\n",
    "executor = Executor(path_scenario, num_workers=1)\n",
    "executor.run()"
   ],
   "id": "b6914b3dd53dac0b",
   "outputs": [
    {
     "name": "stderr",
     "output_type": "stream",
     "text": [
      "\n",
      "\n",
      "\n",
      "0it [00:00, ?it/s]\u001B[A\u001B[A\u001B[A\n",
      "\n",
      "\n",
      "  0%|          | 0/24 [00:00<?, ?it/s]\u001B[A\u001B[A\u001B[A\n",
      "\n",
      "\n",
      "Start execution:   0%|          | 0/24 [00:00<?, ?it/s]\u001B[A\u001B[A\u001B[A\n",
      "\n",
      "\n",
      "0it [02:58, ?it/s]p 2021-03-23 23:00:00+00:00 for region_tasks scenario_with_topology:   0%|          | 0/24 [00:00<?, ?it/s]\u001B[A\u001B[A\u001B[A\n",
      "\n",
      "\n",
      "\n",
      "Executing timestamp 2021-03-23 23:00:00+00:00 for grid:   0%|          | 0/24 [00:05<?, ?it/s]                               \u001B[A\u001B[A\u001B[A\n",
      "\n",
      "\n",
      "Executing timestamp 2021-03-23 23:00:00+00:00 for grid:   4%|▍         | 1/24 [00:06<02:29,  6.50s/it]\u001B[A\u001B[A\u001B[A\n",
      "\n",
      "\n",
      "Executing timestamp 2021-03-24 00:00:00+00:00 for region_tasks scenario_with_topology:   4%|▍         | 1/24 [00:06<02:29,  6.50s/it]\u001B[A\u001B[A\u001B[A\n",
      "\n",
      "\n",
      "Executing timestamp 2021-03-24 00:00:00+00:00 for grid:   4%|▍         | 1/24 [00:08<02:29,  6.50s/it]                               \u001B[A\u001B[A\u001B[A\n",
      "\n",
      "\n",
      "Executing timestamp 2021-03-24 00:00:00+00:00 for grid:   8%|▊         | 2/24 [00:08<01:28,  4.01s/it]\u001B[A\u001B[A\u001B[A\n",
      "\n",
      "\n",
      "Executing timestamp 2021-03-24 01:00:00+00:00 for region_tasks scenario_with_topology:   8%|▊         | 2/24 [00:08<01:28,  4.01s/it]\u001B[A\u001B[A\u001B[A\n",
      "\n",
      "\n",
      "Executing timestamp 2021-03-24 01:00:00+00:00 for grid:   8%|▊         | 2/24 [00:10<01:28,  4.01s/it]                               \u001B[A\u001B[A\u001B[A\n",
      "\n",
      "\n",
      "Executing timestamp 2021-03-24 01:00:00+00:00 for grid:  12%|█▎        | 3/24 [00:11<01:07,  3.22s/it]\u001B[A\u001B[A\u001B[A\n",
      "\n",
      "\n",
      "Executing timestamp 2021-03-24 02:00:00+00:00 for region_tasks scenario_with_topology:  12%|█▎        | 3/24 [00:11<01:07,  3.22s/it]\u001B[A\u001B[A\u001B[A\n",
      "\n",
      "\n",
      "Executing timestamp 2021-03-24 02:00:00+00:00 for grid:  12%|█▎        | 3/24 [00:13<01:07,  3.22s/it]                               \u001B[A\u001B[A\u001B[A\n",
      "\n",
      "\n",
      "Executing timestamp 2021-03-24 02:00:00+00:00 for grid:  17%|█▋        | 4/24 [00:13<00:57,  2.88s/it]\u001B[A\u001B[A\u001B[A\n",
      "\n",
      "\n",
      "Executing timestamp 2021-03-24 03:00:00+00:00 for region_tasks scenario_with_topology:  17%|█▋        | 4/24 [00:13<00:57,  2.88s/it]\u001B[A\u001B[A\u001B[A\n",
      "\n",
      "\n",
      "Executing timestamp 2021-03-24 03:00:00+00:00 for grid:  17%|█▋        | 4/24 [00:15<00:57,  2.88s/it]                               \u001B[A\u001B[A\u001B[A\n",
      "\n",
      "\n",
      "Executing timestamp 2021-03-24 03:00:00+00:00 for grid:  21%|██        | 5/24 [00:15<00:50,  2.66s/it]\u001B[A\u001B[A\u001B[A\n",
      "\n",
      "\n",
      "Executing timestamp 2021-03-24 04:00:00+00:00 for region_tasks scenario_with_topology:  21%|██        | 5/24 [00:15<00:50,  2.66s/it]\u001B[A\u001B[A\u001B[A\n",
      "\n",
      "\n",
      "Executing timestamp 2021-03-24 04:00:00+00:00 for grid:  21%|██        | 5/24 [00:17<00:50,  2.66s/it]                               \u001B[A\u001B[A\u001B[A\n",
      "\n",
      "\n",
      "Executing timestamp 2021-03-24 04:00:00+00:00 for grid:  25%|██▌       | 6/24 [00:17<00:45,  2.54s/it]\u001B[A\u001B[A\u001B[A\n",
      "\n",
      "\n",
      "Executing timestamp 2021-03-24 05:00:00+00:00 for region_tasks scenario_with_topology:  25%|██▌       | 6/24 [00:17<00:45,  2.54s/it]\u001B[A\u001B[A\u001B[A\n",
      "\n",
      "\n",
      "Executing timestamp 2021-03-24 05:00:00+00:00 for grid:  25%|██▌       | 6/24 [00:20<00:45,  2.54s/it]                               \u001B[A\u001B[A\u001B[A\n",
      "\n",
      "\n",
      "Executing timestamp 2021-03-24 05:00:00+00:00 for grid:  29%|██▉       | 7/24 [00:20<00:42,  2.47s/it]\u001B[A\u001B[A\u001B[A\n",
      "\n",
      "\n",
      "Executing timestamp 2021-03-24 06:00:00+00:00 for region_tasks scenario_with_topology:  29%|██▉       | 7/24 [00:20<00:42,  2.47s/it]\u001B[A\u001B[A\u001B[A\n",
      "\n",
      "\n",
      "Executing timestamp 2021-03-24 06:00:00+00:00 for grid:  29%|██▉       | 7/24 [00:23<00:42,  2.47s/it]                               \u001B[A\u001B[A\u001B[A\n",
      "\n",
      "\n",
      "Executing timestamp 2021-03-24 06:00:00+00:00 for grid:  33%|███▎      | 8/24 [00:23<00:42,  2.65s/it]\u001B[A\u001B[A\u001B[A\n",
      "\n",
      "\n",
      "Executing timestamp 2021-03-24 07:00:00+00:00 for region_tasks scenario_with_topology:  33%|███▎      | 8/24 [00:23<00:42,  2.65s/it]\u001B[A\u001B[A\u001B[A\n",
      "\n",
      "\n",
      "Executing timestamp 2021-03-24 07:00:00+00:00 for grid:  33%|███▎      | 8/24 [00:25<00:42,  2.65s/it]                               \u001B[A\u001B[A\u001B[A\n",
      "\n",
      "\n",
      "Executing timestamp 2021-03-24 07:00:00+00:00 for grid:  38%|███▊      | 9/24 [00:25<00:38,  2.56s/it]\u001B[A\u001B[A\u001B[A\n",
      "\n",
      "\n",
      "Executing timestamp 2021-03-24 08:00:00+00:00 for region_tasks scenario_with_topology:  38%|███▊      | 9/24 [00:25<00:38,  2.56s/it]\u001B[A\u001B[A\u001B[A\n",
      "\n",
      "\n",
      "Executing timestamp 2021-03-24 08:00:00+00:00 for grid:  38%|███▊      | 9/24 [00:28<00:38,  2.56s/it]                               \u001B[A\u001B[A\u001B[A\n",
      "\n",
      "\n",
      "Executing timestamp 2021-03-24 08:00:00+00:00 for grid:  42%|████▏     | 10/24 [00:28<00:35,  2.52s/it]\u001B[A\u001B[A\u001B[A\n",
      "\n",
      "\n",
      "Executing timestamp 2021-03-24 09:00:00+00:00 for region_tasks scenario_with_topology:  42%|████▏     | 10/24 [00:28<00:35,  2.52s/it]\u001B[A\u001B[A\u001B[A\n",
      "\n",
      "\n",
      "Executing timestamp 2021-03-24 09:00:00+00:00 for grid:  42%|████▏     | 10/24 [00:30<00:35,  2.52s/it]                               \u001B[A\u001B[A\u001B[A\n",
      "\n",
      "\n",
      "Executing timestamp 2021-03-24 09:00:00+00:00 for grid:  46%|████▌     | 11/24 [00:30<00:32,  2.50s/it]\u001B[A\u001B[A\u001B[A\n",
      "\n",
      "\n",
      "Executing timestamp 2021-03-24 10:00:00+00:00 for region_tasks scenario_with_topology:  46%|████▌     | 11/24 [00:30<00:32,  2.50s/it]\u001B[A\u001B[A\u001B[A\n",
      "\n",
      "\n",
      "Executing timestamp 2021-03-24 10:00:00+00:00 for grid:  46%|████▌     | 11/24 [00:33<00:32,  2.50s/it]                               \u001B[A\u001B[A\u001B[A\n",
      "\n",
      "\n",
      "Executing timestamp 2021-03-24 10:00:00+00:00 for grid:  50%|█████     | 12/24 [00:33<00:30,  2.51s/it]\u001B[A\u001B[A\u001B[A\n",
      "\n",
      "\n",
      "Executing timestamp 2021-03-24 11:00:00+00:00 for region_tasks scenario_with_topology:  50%|█████     | 12/24 [00:33<00:30,  2.51s/it]\u001B[A\u001B[A\u001B[A\n",
      "\n",
      "\n",
      "Executing timestamp 2021-03-24 11:00:00+00:00 for grid:  50%|█████     | 12/24 [00:35<00:30,  2.51s/it]                               \u001B[A\u001B[A\u001B[A\n",
      "\n",
      "\n",
      "Executing timestamp 2021-03-24 11:00:00+00:00 for grid:  54%|█████▍    | 13/24 [00:35<00:27,  2.50s/it]\u001B[A\u001B[A\u001B[A\n",
      "\n",
      "\n",
      "Executing timestamp 2021-03-24 12:00:00+00:00 for region_tasks scenario_with_topology:  54%|█████▍    | 13/24 [00:35<00:27,  2.50s/it]\u001B[A\u001B[A\u001B[A\n",
      "\n",
      "\n",
      "Executing timestamp 2021-03-24 12:00:00+00:00 for grid:  54%|█████▍    | 13/24 [00:38<00:27,  2.50s/it]                               \u001B[A\u001B[A\u001B[A\n",
      "\n",
      "\n",
      "Executing timestamp 2021-03-24 12:00:00+00:00 for grid:  58%|█████▊    | 14/24 [00:38<00:25,  2.51s/it]\u001B[A\u001B[A\u001B[A\n",
      "\n",
      "\n",
      "Executing timestamp 2021-03-24 13:00:00+00:00 for region_tasks scenario_with_topology:  58%|█████▊    | 14/24 [00:38<00:25,  2.51s/it]\u001B[A\u001B[A\u001B[A\n",
      "\n",
      "\n",
      "Executing timestamp 2021-03-24 13:00:00+00:00 for grid:  58%|█████▊    | 14/24 [00:40<00:25,  2.51s/it]                               \u001B[A\u001B[A\u001B[A\n",
      "\n",
      "\n",
      "Executing timestamp 2021-03-24 13:00:00+00:00 for grid:  62%|██████▎   | 15/24 [00:40<00:22,  2.52s/it]\u001B[A\u001B[A\u001B[A\n",
      "\n",
      "\n",
      "Executing timestamp 2021-03-24 14:00:00+00:00 for region_tasks scenario_with_topology:  62%|██████▎   | 15/24 [00:40<00:22,  2.52s/it]\u001B[A\u001B[A\u001B[A\n",
      "\n",
      "\n",
      "Executing timestamp 2021-03-24 14:00:00+00:00 for grid:  62%|██████▎   | 15/24 [00:43<00:22,  2.52s/it]                               \u001B[A\u001B[A\u001B[A\n",
      "\n",
      "\n",
      "Executing timestamp 2021-03-24 14:00:00+00:00 for grid:  67%|██████▋   | 16/24 [00:43<00:20,  2.57s/it]\u001B[A\u001B[A\u001B[A\n",
      "\n",
      "\n",
      "Executing timestamp 2021-03-24 15:00:00+00:00 for region_tasks scenario_with_topology:  67%|██████▋   | 16/24 [00:43<00:20,  2.57s/it]\u001B[A\u001B[A\u001B[A\n",
      "\n",
      "\n",
      "Executing timestamp 2021-03-24 15:00:00+00:00 for grid:  67%|██████▋   | 16/24 [00:45<00:20,  2.57s/it]                               \u001B[A\u001B[A\u001B[A\n",
      "\n",
      "\n",
      "Executing timestamp 2021-03-24 15:00:00+00:00 for grid:  71%|███████   | 17/24 [00:46<00:18,  2.60s/it]\u001B[A\u001B[A\u001B[A\n",
      "\n",
      "\n",
      "Executing timestamp 2021-03-24 16:00:00+00:00 for region_tasks scenario_with_topology:  71%|███████   | 17/24 [00:46<00:18,  2.60s/it]\u001B[A\u001B[A\u001B[A\n",
      "\n",
      "\n",
      "Executing timestamp 2021-03-24 16:00:00+00:00 for grid:  71%|███████   | 17/24 [00:48<00:18,  2.60s/it]                               \u001B[A\u001B[A\u001B[A\n",
      "\n",
      "\n",
      "Executing timestamp 2021-03-24 16:00:00+00:00 for grid:  75%|███████▌  | 18/24 [00:48<00:15,  2.64s/it]\u001B[A\u001B[A\u001B[A\n",
      "\n",
      "\n",
      "Executing timestamp 2021-03-24 17:00:00+00:00 for region_tasks scenario_with_topology:  75%|███████▌  | 18/24 [00:48<00:15,  2.64s/it]\u001B[A\u001B[A\u001B[A\n",
      "\n",
      "\n",
      "Executing timestamp 2021-03-24 17:00:00+00:00 for grid:  75%|███████▌  | 18/24 [00:51<00:15,  2.64s/it]                               \u001B[A\u001B[A\u001B[A\n",
      "\n",
      "\n",
      "Executing timestamp 2021-03-24 17:00:00+00:00 for grid:  79%|███████▉  | 19/24 [00:51<00:13,  2.75s/it]\u001B[A\u001B[A\u001B[A\n",
      "\n",
      "\n",
      "Executing timestamp 2021-03-24 18:00:00+00:00 for region_tasks scenario_with_topology:  79%|███████▉  | 19/24 [00:51<00:13,  2.75s/it]\u001B[A\u001B[A\u001B[A\n",
      "\n",
      "\n",
      "Executing timestamp 2021-03-24 18:00:00+00:00 for grid:  79%|███████▉  | 19/24 [00:54<00:13,  2.75s/it]                               \u001B[A\u001B[A\u001B[A\n",
      "\n",
      "\n",
      "Executing timestamp 2021-03-24 18:00:00+00:00 for grid:  83%|████████▎ | 20/24 [00:54<00:11,  2.88s/it]\u001B[A\u001B[A\u001B[A\n",
      "\n",
      "\n",
      "Executing timestamp 2021-03-24 19:00:00+00:00 for region_tasks scenario_with_topology:  83%|████████▎ | 20/24 [00:54<00:11,  2.88s/it]\u001B[A\u001B[A\u001B[A\n",
      "\n",
      "\n",
      "Executing timestamp 2021-03-24 19:00:00+00:00 for grid:  83%|████████▎ | 20/24 [00:57<00:11,  2.88s/it]                               \u001B[A\u001B[A\u001B[A\n",
      "\n",
      "\n",
      "Executing timestamp 2021-03-24 19:00:00+00:00 for grid:  88%|████████▊ | 21/24 [00:58<00:08,  2.93s/it]\u001B[A\u001B[A\u001B[A\n",
      "\n",
      "\n",
      "Executing timestamp 2021-03-24 20:00:00+00:00 for region_tasks scenario_with_topology:  88%|████████▊ | 21/24 [00:58<00:08,  2.93s/it]\u001B[A\u001B[A\u001B[A\n",
      "\n",
      "\n",
      "Executing timestamp 2021-03-24 20:00:00+00:00 for grid:  88%|████████▊ | 21/24 [01:01<00:08,  2.93s/it]                               \u001B[A\u001B[A\u001B[A\n",
      "\n",
      "\n",
      "Executing timestamp 2021-03-24 20:00:00+00:00 for grid:  92%|█████████▏| 22/24 [01:01<00:06,  3.05s/it]\u001B[A\u001B[A\u001B[A\n",
      "\n",
      "\n",
      "Executing timestamp 2021-03-24 21:00:00+00:00 for region_tasks scenario_with_topology:  92%|█████████▏| 22/24 [01:01<00:06,  3.05s/it]\u001B[A\u001B[A\u001B[A\n",
      "\n",
      "\n",
      "Executing timestamp 2021-03-24 21:00:00+00:00 for grid:  92%|█████████▏| 22/24 [01:04<00:06,  3.05s/it]                               \u001B[A\u001B[A\u001B[A\n",
      "\n",
      "\n",
      "Executing timestamp 2021-03-24 21:00:00+00:00 for grid:  96%|█████████▌| 23/24 [01:04<00:02,  3.00s/it]\u001B[A\u001B[A\u001B[A\n",
      "\n",
      "\n",
      "Executing timestamp 2021-03-24 22:00:00+00:00 for region_tasks scenario_with_topology:  96%|█████████▌| 23/24 [01:04<00:02,  3.00s/it]\u001B[A\u001B[A\u001B[A\n",
      "\n",
      "\n",
      "Executing timestamp 2021-03-24 22:00:00+00:00 for grid:  96%|█████████▌| 23/24 [01:07<00:02,  3.00s/it]                               \u001B[A\u001B[A\u001B[A\n",
      "\n",
      "\n",
      "Executing timestamp 2021-03-24 22:00:00+00:00 for grid: 100%|██████████| 24/24 [01:07<00:00,  3.03s/it]\u001B[A\u001B[A\u001B[A\n",
      "\n",
      "\n",
      "Simulation finished: 100%|██████████| 24/24 [01:07<00:00,  3.03s/it]                                   \u001B[A\u001B[A\u001B[A"
     ]
    }
   ],
   "execution_count": 7
  },
  {
   "metadata": {},
   "cell_type": "markdown",
   "source": [
    "## Step 4: Scenario Analysis (not yet functional)\n",
    "\n",
    "Analyze and visualize the results obtained from scenario execution.\n",
    "\n",
    "The analysis provides visual insights into scenario outcomes, which helps understand scenario dynamics and performance."
   ],
   "id": "c36e8cb1ac7e45e8"
  },
  {
   "metadata": {},
   "cell_type": "code",
   "source": [
    "# Path to simulation results\n",
    "path_results = f\"../../results/{name}\""
   ],
   "id": "f6071a6fa6329ed5",
   "outputs": [],
   "execution_count": null
  },
  {
   "metadata": {
    "ExecuteTime": {
     "end_time": "2025-03-25T17:13:41.337695Z",
     "start_time": "2025-03-25T17:13:41.337695Z"
    }
   },
   "cell_type": "code",
   "source": [
    "# Instantiate Analyzer and visualize results\n",
    "analyzer = Analyzer(path_results)\n",
    "analyzer.plot_general_analysis()"
   ],
   "id": "76b4578a54b10ef8",
   "outputs": [],
   "execution_count": null
  }
 ],
 "metadata": {
  "kernelspec": {
   "display_name": "Python 3",
   "language": "python",
   "name": "python3"
  },
  "language_info": {
   "codemirror_mode": {
    "name": "ipython",
    "version": 2
   },
   "file_extension": ".py",
   "mimetype": "text/x-python",
   "name": "python",
   "nbconvert_exporter": "python",
   "pygments_lexer": "ipython2",
   "version": "2.7.6"
  }
 },
 "nbformat": 4,
 "nbformat_minor": 5
}
