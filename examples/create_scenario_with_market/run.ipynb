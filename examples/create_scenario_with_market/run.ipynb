{
 "cells": [
  {
   "metadata": {},
   "cell_type": "markdown",
   "source": "# Simple scenario",
   "id": "52cee6f9fac9b8d8"
  },
  {
   "metadata": {},
   "cell_type": "markdown",
   "source": [
    "## Introduction\n",
    "\n",
    "This notebook is based on the \"create_simple_scenario\" scenario. It expands its functionality by including a market in which the agents can trade electricity with each other."
   ],
   "id": "a40d04d2a8e7e84"
  },
  {
   "metadata": {},
   "cell_type": "markdown",
   "source": [
    "### Required Files\n",
    "\n",
    "The scenario setup uses the following files:\n",
    "- **YAML files:** Define configuration for agents (`agents.yaml`), grids (`grids.yaml`), markets (`markets.yaml`), and scenario setup (`setup.yaml`).\n",
    "- **Excel files:** Contain structured data for agents (`agents.xlsx`).\n",
    "\n",
    "All files are placed in a structured folder (`single_market`). Its name will automatically be used for the scenario name (unless overwritten)."
   ],
   "id": "f713a1df4e1705bf"
  },
  {
   "metadata": {
    "ExecuteTime": {
     "end_time": "2025-03-26T15:01:42.483375Z",
     "start_time": "2025-03-26T15:01:32.723873Z"
    }
   },
   "cell_type": "code",
   "source": "from hamlet import Creator, Executor, Analyzer",
   "id": "7a9661ed99114011",
   "outputs": [],
   "execution_count": 2
  },
  {
   "metadata": {},
   "cell_type": "markdown",
   "source": [
    "## Step 1: Changes in the YAML files\n",
    "\n"
   ],
   "id": "5c61449aa64c4585"
  },
  {
   "metadata": {},
   "cell_type": "markdown",
   "source": [
    "To include a market in the scenario, we need to make changes to the YAML files in comparison to the \"create_simple_scenario\" scenario. These have already been made but for clarity are listed here:\n",
    " - `agents.yaml`: `sfh/ems/market/strategy`: `reatiler` -> `linear` | This changes the trading strategy, i.e. what the price is the agent asks for its energy. The linear trading strategy increases the price to buy energy and lowers the price to sell energy linearly as we approach the closing time of the market.\n",
    "  - `markets.yaml`: ` continuous/clearing/method`: `None` -> `pda` | This activates the periodic double auction clearing method. This is a market clearing method that uses the double auction mechanism to determine the price and quantity of energy traded in the market."
   ],
   "id": "855cf9165063e029"
  },
  {
   "metadata": {},
   "cell_type": "markdown",
   "source": [
    "## Step 2: Scenario Creation\n",
    "\n",
    "This step generates the scenario based on YAML and Excel configurations."
   ],
   "id": "5d6a032eefeadc54"
  },
  {
   "metadata": {
    "ExecuteTime": {
     "end_time": "2025-03-26T15:02:45.124540Z",
     "start_time": "2025-03-26T15:02:45.120898Z"
    }
   },
   "cell_type": "code",
   "source": [
    "# Path to the scenario configuration folder\n",
    "name = 'scenario_with_market'\n",
    "path_configs = f\"./{name}\""
   ],
   "id": "fa6cfa9f90b0fce4",
   "outputs": [],
   "execution_count": 3
  },
  {
   "metadata": {
    "ExecuteTime": {
     "end_time": "2025-03-26T15:02:49.336502Z",
     "start_time": "2025-03-26T15:02:46.229093Z"
    }
   },
   "cell_type": "code",
   "source": [
    "# Instantiate Creator and generate the scenario\n",
    "creator = Creator(path=path_configs)\n",
    "creator.new_scenario_from_files()"
   ],
   "id": "4014920d7f11679d",
   "outputs": [
    {
     "name": "stderr",
     "output_type": "stream",
     "text": [
      "Successfully created scenario: 100%|██████████| 9/9 [00:03<00:00,  1.31it/s]                                                            "
     ]
    }
   ],
   "execution_count": 4
  },
  {
   "metadata": {},
   "cell_type": "markdown",
   "source": [
    "## Step 2: Scenario Execution\n",
    "\n",
    "Execute the scenario created previously. Hamlet runs the defined scenario and produces results.\n",
    "\n",
    "The `num_workers` parameter defines how many CPU cores to use for simulation. It is set to one to not call multiprocessing. To use multiprocessing you need to call it from a python file using the following command:\n",
    "\n",
    "```python\n",
    "\n",
    "if __name__ == \"__main__\":\n",
    "    sim = Executor(path)\n",
    "    sim.run()\n"
   ],
   "id": "569d0670471dcc"
  },
  {
   "metadata": {
    "ExecuteTime": {
     "end_time": "2025-03-26T15:04:17.740752Z",
     "start_time": "2025-03-26T15:04:17.737034Z"
    }
   },
   "cell_type": "code",
   "source": [
    "# Path to the scenario created\n",
    "path_scenario = f\"../../scenarios/{name}\""
   ],
   "id": "7e86ab74409d552c",
   "outputs": [],
   "execution_count": 6
  },
  {
   "metadata": {
    "ExecuteTime": {
     "end_time": "2025-03-26T15:07:24.813231Z",
     "start_time": "2025-03-26T15:04:18.282702Z"
    }
   },
   "cell_type": "code",
   "source": [
    "# Instantiate Executor and run the simulation\n",
    "executor = Executor(path_scenario, num_workers=1)\n",
    "executor.run()"
   ],
   "id": "b6914b3dd53dac0b",
   "outputs": [
    {
     "name": "stderr",
     "output_type": "stream",
     "text": [
      "\n",
      "0it [00:00, ?it/s]\u001B[A\n",
      "  0%|          | 0/24 [00:00<?, ?it/s]\u001B[A\n",
      "Start execution:   0%|          | 0/24 [00:00<?, ?it/s]\u001B[A\n",
      "Executing timestamp 2021-03-23 23:00:00+00:00 for region_tasks scenario_with_market:   0%|          | 0/24 [00:00<?, ?it/s]\u001B[A\n",
      "Executing timestamp 2021-03-23 23:00:00+00:00 for grid:   0%|          | 0/24 [00:08<?, ?it/s]                             \u001B[A\n",
      "Executing timestamp 2021-03-23 23:00:00+00:00 for grid:   4%|▍         | 1/24 [00:08<03:06,  8.12s/it]\u001B[A\n",
      "Executing timestamp 2021-03-24 00:00:00+00:00 for region_tasks scenario_with_market:   4%|▍         | 1/24 [00:08<03:06,  8.12s/it]\u001B[A\n",
      "Executing timestamp 2021-03-24 00:00:00+00:00 for grid:   4%|▍         | 1/24 [00:12<03:06,  8.12s/it]                             \u001B[A\n",
      "Executing timestamp 2021-03-24 00:00:00+00:00 for grid:   8%|▊         | 2/24 [00:12<02:07,  5.79s/it]\u001B[A\n",
      "Executing timestamp 2021-03-24 01:00:00+00:00 for region_tasks scenario_with_market:   8%|▊         | 2/24 [00:12<02:07,  5.79s/it]\u001B[A\n",
      "Executing timestamp 2021-03-24 01:00:00+00:00 for grid:   8%|▊         | 2/24 [00:16<02:07,  5.79s/it]                             \u001B[A\n",
      "Executing timestamp 2021-03-24 01:00:00+00:00 for grid:  12%|█▎        | 3/24 [00:16<01:44,  5.00s/it]\u001B[A\n",
      "Executing timestamp 2021-03-24 02:00:00+00:00 for region_tasks scenario_with_market:  12%|█▎        | 3/24 [00:16<01:44,  5.00s/it]\u001B[A\n",
      "Executing timestamp 2021-03-24 02:00:00+00:00 for grid:  12%|█▎        | 3/24 [00:20<01:44,  5.00s/it]                             \u001B[A\n",
      "Executing timestamp 2021-03-24 02:00:00+00:00 for grid:  17%|█▋        | 4/24 [00:20<01:36,  4.83s/it]\u001B[A\n",
      "Executing timestamp 2021-03-24 03:00:00+00:00 for region_tasks scenario_with_market:  17%|█▋        | 4/24 [00:20<01:36,  4.83s/it]\u001B[A\n",
      "Executing timestamp 2021-03-24 03:00:00+00:00 for grid:  17%|█▋        | 4/24 [00:26<01:36,  4.83s/it]                             \u001B[A\n",
      "Executing timestamp 2021-03-24 03:00:00+00:00 for grid:  21%|██        | 5/24 [00:26<01:38,  5.18s/it]\u001B[A\n",
      "Executing timestamp 2021-03-24 04:00:00+00:00 for region_tasks scenario_with_market:  21%|██        | 5/24 [00:26<01:38,  5.18s/it]\u001B[A\n",
      "Executing timestamp 2021-03-24 04:00:00+00:00 for grid:  21%|██        | 5/24 [00:35<01:38,  5.18s/it]                             \u001B[A\n",
      "Executing timestamp 2021-03-24 04:00:00+00:00 for grid:  25%|██▌       | 6/24 [00:35<01:56,  6.48s/it]\u001B[A\n",
      "Executing timestamp 2021-03-24 05:00:00+00:00 for region_tasks scenario_with_market:  25%|██▌       | 6/24 [00:35<01:56,  6.48s/it]\u001B[A\n",
      "Executing timestamp 2021-03-24 05:00:00+00:00 for grid:  25%|██▌       | 6/24 [00:41<01:56,  6.48s/it]                             \u001B[A\n",
      "Executing timestamp 2021-03-24 05:00:00+00:00 for grid:  29%|██▉       | 7/24 [00:41<01:45,  6.22s/it]\u001B[A\n",
      "Executing timestamp 2021-03-24 06:00:00+00:00 for region_tasks scenario_with_market:  29%|██▉       | 7/24 [00:41<01:45,  6.22s/it]\u001B[A\n",
      "Executing timestamp 2021-03-24 06:00:00+00:00 for grid:  29%|██▉       | 7/24 [00:52<01:45,  6.22s/it]                             \u001B[A\n",
      "Executing timestamp 2021-03-24 06:00:00+00:00 for grid:  33%|███▎      | 8/24 [00:52<02:02,  7.64s/it]\u001B[A\n",
      "Executing timestamp 2021-03-24 07:00:00+00:00 for region_tasks scenario_with_market:  33%|███▎      | 8/24 [00:52<02:02,  7.64s/it]\u001B[A\n",
      "Executing timestamp 2021-03-24 07:00:00+00:00 for grid:  33%|███▎      | 8/24 [01:02<02:02,  7.64s/it]                             \u001B[A\n",
      "Executing timestamp 2021-03-24 07:00:00+00:00 for grid:  38%|███▊      | 9/24 [01:02<02:07,  8.51s/it]\u001B[A\n",
      "Executing timestamp 2021-03-24 08:00:00+00:00 for region_tasks scenario_with_market:  38%|███▊      | 9/24 [01:02<02:07,  8.51s/it]\u001B[A\n",
      "Executing timestamp 2021-03-24 08:00:00+00:00 for grid:  38%|███▊      | 9/24 [01:13<02:07,  8.51s/it]                             \u001B[A\n",
      "Executing timestamp 2021-03-24 08:00:00+00:00 for grid:  42%|████▏     | 10/24 [01:13<02:10,  9.29s/it]\u001B[A\n",
      "Executing timestamp 2021-03-24 09:00:00+00:00 for region_tasks scenario_with_market:  42%|████▏     | 10/24 [01:13<02:10,  9.29s/it]\u001B[A\n",
      "Executing timestamp 2021-03-24 09:00:00+00:00 for grid:  42%|████▏     | 10/24 [01:23<02:10,  9.29s/it]                             \u001B[A\n",
      "Executing timestamp 2021-03-24 09:00:00+00:00 for grid:  46%|████▌     | 11/24 [01:23<02:05,  9.63s/it]\u001B[A\n",
      "Executing timestamp 2021-03-24 10:00:00+00:00 for region_tasks scenario_with_market:  46%|████▌     | 11/24 [01:23<02:05,  9.63s/it]\u001B[A\n",
      "Executing timestamp 2021-03-24 10:00:00+00:00 for grid:  46%|████▌     | 11/24 [01:34<02:05,  9.63s/it]                             \u001B[A\n",
      "Executing timestamp 2021-03-24 10:00:00+00:00 for grid:  50%|█████     | 12/24 [01:34<01:58,  9.86s/it]\u001B[A\n",
      "Executing timestamp 2021-03-24 11:00:00+00:00 for region_tasks scenario_with_market:  50%|█████     | 12/24 [01:34<01:58,  9.86s/it]\u001B[A\n",
      "Executing timestamp 2021-03-24 11:00:00+00:00 for grid:  50%|█████     | 12/24 [01:43<01:58,  9.86s/it]                             \u001B[A\n",
      "Executing timestamp 2021-03-24 11:00:00+00:00 for grid:  54%|█████▍    | 13/24 [01:43<01:46,  9.72s/it]\u001B[A\n",
      "Executing timestamp 2021-03-24 12:00:00+00:00 for region_tasks scenario_with_market:  54%|█████▍    | 13/24 [01:43<01:46,  9.72s/it]\u001B[A\n",
      "Executing timestamp 2021-03-24 12:00:00+00:00 for grid:  54%|█████▍    | 13/24 [01:52<01:46,  9.72s/it]                             \u001B[A\n",
      "Executing timestamp 2021-03-24 12:00:00+00:00 for grid:  58%|█████▊    | 14/24 [01:52<01:34,  9.46s/it]\u001B[A\n",
      "Executing timestamp 2021-03-24 13:00:00+00:00 for region_tasks scenario_with_market:  58%|█████▊    | 14/24 [01:52<01:34,  9.46s/it]\u001B[A\n",
      "Executing timestamp 2021-03-24 13:00:00+00:00 for grid:  58%|█████▊    | 14/24 [02:01<01:34,  9.46s/it]                             \u001B[A\n",
      "Executing timestamp 2021-03-24 13:00:00+00:00 for grid:  62%|██████▎   | 15/24 [02:01<01:23,  9.32s/it]\u001B[A\n",
      "Executing timestamp 2021-03-24 14:00:00+00:00 for region_tasks scenario_with_market:  62%|██████▎   | 15/24 [02:01<01:23,  9.32s/it]\u001B[A\n",
      "Executing timestamp 2021-03-24 14:00:00+00:00 for grid:  62%|██████▎   | 15/24 [02:11<01:23,  9.32s/it]                             \u001B[A\n",
      "Executing timestamp 2021-03-24 14:00:00+00:00 for grid:  67%|██████▋   | 16/24 [02:11<01:15,  9.46s/it]\u001B[A\n",
      "Executing timestamp 2021-03-24 15:00:00+00:00 for region_tasks scenario_with_market:  67%|██████▋   | 16/24 [02:11<01:15,  9.46s/it]\u001B[A\n",
      "Executing timestamp 2021-03-24 15:00:00+00:00 for grid:  67%|██████▋   | 16/24 [02:20<01:15,  9.46s/it]                             \u001B[A\n",
      "Executing timestamp 2021-03-24 15:00:00+00:00 for grid:  71%|███████   | 17/24 [02:20<01:05,  9.35s/it]\u001B[A\n",
      "Executing timestamp 2021-03-24 16:00:00+00:00 for region_tasks scenario_with_market:  71%|███████   | 17/24 [02:20<01:05,  9.35s/it]\u001B[A\n",
      "Executing timestamp 2021-03-24 16:00:00+00:00 for grid:  71%|███████   | 17/24 [02:29<01:05,  9.35s/it]                             \u001B[A\n",
      "Executing timestamp 2021-03-24 16:00:00+00:00 for grid:  75%|███████▌  | 18/24 [02:29<00:56,  9.38s/it]\u001B[A\n",
      "Executing timestamp 2021-03-24 17:00:00+00:00 for region_tasks scenario_with_market:  75%|███████▌  | 18/24 [02:29<00:56,  9.38s/it]\u001B[A\n",
      "Executing timestamp 2021-03-24 17:00:00+00:00 for grid:  75%|███████▌  | 18/24 [02:38<00:56,  9.38s/it]                             \u001B[A\n",
      "Executing timestamp 2021-03-24 17:00:00+00:00 for grid:  79%|███████▉  | 19/24 [02:38<00:46,  9.23s/it]\u001B[A\n",
      "Executing timestamp 2021-03-24 18:00:00+00:00 for region_tasks scenario_with_market:  79%|███████▉  | 19/24 [02:38<00:46,  9.23s/it]\u001B[A\n",
      "Executing timestamp 2021-03-24 18:00:00+00:00 for grid:  79%|███████▉  | 19/24 [02:44<00:46,  9.23s/it]                             \u001B[A\n",
      "Executing timestamp 2021-03-24 18:00:00+00:00 for grid:  83%|████████▎ | 20/24 [02:44<00:32,  8.04s/it]\u001B[A\n",
      "Executing timestamp 2021-03-24 19:00:00+00:00 for region_tasks scenario_with_market:  83%|████████▎ | 20/24 [02:44<00:32,  8.04s/it]\u001B[A\n",
      "Executing timestamp 2021-03-24 19:00:00+00:00 for grid:  83%|████████▎ | 20/24 [02:49<00:32,  8.04s/it]                             \u001B[A\n",
      "Executing timestamp 2021-03-24 19:00:00+00:00 for grid:  88%|████████▊ | 21/24 [02:49<00:21,  7.13s/it]\u001B[A\n",
      "Executing timestamp 2021-03-24 20:00:00+00:00 for region_tasks scenario_with_market:  88%|████████▊ | 21/24 [02:49<00:21,  7.13s/it]\u001B[A\n",
      "Executing timestamp 2021-03-24 20:00:00+00:00 for grid:  88%|████████▊ | 21/24 [02:54<00:21,  7.13s/it]                             \u001B[A\n",
      "Executing timestamp 2021-03-24 20:00:00+00:00 for grid:  92%|█████████▏| 22/24 [02:54<00:12,  6.49s/it]\u001B[A\n",
      "Executing timestamp 2021-03-24 21:00:00+00:00 for region_tasks scenario_with_market:  92%|█████████▏| 22/24 [02:54<00:12,  6.49s/it]\u001B[A\n",
      "Executing timestamp 2021-03-24 21:00:00+00:00 for grid:  92%|█████████▏| 22/24 [03:00<00:12,  6.49s/it]                             \u001B[A\n",
      "Executing timestamp 2021-03-24 21:00:00+00:00 for grid:  96%|█████████▌| 23/24 [03:00<00:06,  6.44s/it]\u001B[A\n",
      "Executing timestamp 2021-03-24 22:00:00+00:00 for region_tasks scenario_with_market:  96%|█████████▌| 23/24 [03:00<00:06,  6.44s/it]\u001B[A\n",
      "Executing timestamp 2021-03-24 22:00:00+00:00 for grid:  96%|█████████▌| 23/24 [03:05<00:06,  6.44s/it]                             \u001B[A\n",
      "Executing timestamp 2021-03-24 22:00:00+00:00 for grid: 100%|██████████| 24/24 [03:05<00:00,  6.16s/it]\u001B[A\n",
      "Simulation finished: 100%|██████████| 24/24 [03:06<00:00,  6.16s/it]                                   \u001B[A"
     ]
    }
   ],
   "execution_count": 7
  },
  {
   "metadata": {},
   "cell_type": "markdown",
   "source": [
    "## Step 3: Scenario Analysis  (not yet functional)\n",
    "\n",
    "Analyze and visualize the results obtained from scenario execution.\n",
    "\n",
    "The analysis provides visual insights into scenario outcomes, which helps understand scenario dynamics and performance."
   ],
   "id": "c36e8cb1ac7e45e8"
  },
  {
   "metadata": {},
   "cell_type": "code",
   "source": [
    "# Path to simulation results\n",
    "path_results = f\"../../results/{name}\""
   ],
   "id": "f6071a6fa6329ed5",
   "outputs": [],
   "execution_count": null
  },
  {
   "metadata": {
    "ExecuteTime": {
     "end_time": "2025-03-25T17:13:41.337695Z",
     "start_time": "2025-03-25T17:13:41.337695Z"
    }
   },
   "cell_type": "code",
   "source": [
    "# Instantiate Analyzer and visualize results\n",
    "analyzer = Analyzer(path_results)\n",
    "analyzer.plot_general_analysis()"
   ],
   "id": "76b4578a54b10ef8",
   "outputs": [],
   "execution_count": null
  }
 ],
 "metadata": {
  "kernelspec": {
   "display_name": "Python 3",
   "language": "python",
   "name": "python3"
  },
  "language_info": {
   "codemirror_mode": {
    "name": "ipython",
    "version": 2
   },
   "file_extension": ".py",
   "mimetype": "text/x-python",
   "name": "python",
   "nbconvert_exporter": "python",
   "pygments_lexer": "ipython2",
   "version": "2.7.6"
  }
 },
 "nbformat": 4,
 "nbformat_minor": 5
}
