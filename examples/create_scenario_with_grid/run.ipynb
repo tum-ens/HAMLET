{
 "cells": [
  {
   "metadata": {},
   "cell_type": "markdown",
   "source": "# Simple scenario",
   "id": "52cee6f9fac9b8d8"
  },
  {
   "metadata": {},
   "cell_type": "markdown",
   "source": [
    "## Introduction\n",
    "\n",
    "This notebook is based on the \"create_simple_scenario\" scenario. It expands its functionality by creating the scenario largely from the `electricity.xlsx` file instead of the agent file. This allows to create deterministic grid scenarios from the beginning."
   ],
   "id": "a40d04d2a8e7e84"
  },
  {
   "metadata": {},
   "cell_type": "markdown",
   "source": [
    "### Required Files\n",
    "\n",
    "The scenario setup uses the following files:\n",
    "- **YAML files:** Define configuration for agents (`agents.yaml`), grids (`grids.yaml`), markets (`markets.yaml`), and scenario setup (`setup.yaml`).\n",
    "- **Excel files:** Contain the grid with the agents and their components (`electricity.xlsx`). Make sure that the buses are assigned to the right regions (`zone` column in Excel file). Missing information is filled using the agents config file.\n",
    "\n",
    "All files are placed in a structured folder (`scenario_with_grid`). Its name will automatically be used for the scenario name (unless overwritten)"
   ],
   "id": "f713a1df4e1705bf"
  },
  {
   "metadata": {
    "ExecuteTime": {
     "end_time": "2025-03-28T15:34:38.262981Z",
     "start_time": "2025-03-28T15:34:35.454108Z"
    }
   },
   "cell_type": "code",
   "source": "from hamlet import Creator, Executor, Analyzer",
   "id": "7a9661ed99114011",
   "outputs": [],
   "execution_count": 1
  },
  {
   "metadata": {},
   "cell_type": "markdown",
   "source": [
    "## Step 1: Scenario Creation\n",
    "\n",
    "This step generates the scenario based on YAML and Excel configurations. This time most of the information stems from the `electricity.xlsx` file as it also contains most of the agent information. "
   ],
   "id": "5d6a032eefeadc54"
  },
  {
   "metadata": {
    "ExecuteTime": {
     "end_time": "2025-03-28T15:35:00.910356Z",
     "start_time": "2025-03-28T15:35:00.906743Z"
    }
   },
   "cell_type": "code",
   "source": [
    "# Path to the scenario configuration folder\n",
    "name = \"scenario_with_grid\"\n",
    "path_configs = f\"./{name}\""
   ],
   "id": "fa6cfa9f90b0fce4",
   "outputs": [],
   "execution_count": 2
  },
  {
   "metadata": {
    "ExecuteTime": {
     "end_time": "2025-03-28T15:35:04.167326Z",
     "start_time": "2025-03-28T15:35:01.871358Z"
    }
   },
   "cell_type": "code",
   "source": [
    "# Instantiate Creator and generate the scenario\n",
    "creator = Creator(path=path_configs)\n",
    "creator.new_scenario_from_grids()"
   ],
   "id": "4014920d7f11679d",
   "outputs": [
    {
     "name": "stderr",
     "output_type": "stream",
     "text": [
      "Successfully created scenario: 100%|██████████| 8/8 [00:02<00:00,  4.14it/s]                                                          "
     ]
    }
   ],
   "execution_count": 3
  },
  {
   "metadata": {},
   "cell_type": "markdown",
   "source": [
    "## Step 3: Scenario Execution\n",
    "\n",
    "Execute the scenario created previously. Hamlet runs the defined scenario and produces results.\n",
    "\n",
    "The `num_workers` parameter defines how many CPU cores to use for simulation. It is set to one to not call multiprocessing. To use multiprocessing you preferably call it from a python file using the following command:\n",
    "\n",
    "```python\n",
    "\n",
    "if __name__ == \"__main__\":\n",
    "    sim = Executor(path)\n",
    "    sim.run()\n"
   ],
   "id": "569d0670471dcc"
  },
  {
   "metadata": {
    "ExecuteTime": {
     "end_time": "2025-03-28T15:35:31.133649Z",
     "start_time": "2025-03-28T15:35:31.128960Z"
    }
   },
   "cell_type": "code",
   "source": [
    "# Path to the scenario created\n",
    "path_scenario = f\"../../scenarios/{name}\""
   ],
   "id": "7e86ab74409d552c",
   "outputs": [],
   "execution_count": 4
  },
  {
   "metadata": {
    "ExecuteTime": {
     "end_time": "2025-03-28T15:36:28.127227Z",
     "start_time": "2025-03-28T15:35:32.713227Z"
    }
   },
   "cell_type": "code",
   "source": [
    "# Instantiate Executor and run the simulation\n",
    "executor = Executor(path_scenario, num_workers=1)\n",
    "executor.run()"
   ],
   "id": "b6914b3dd53dac0b",
   "outputs": [
    {
     "name": "stderr",
     "output_type": "stream",
     "text": [
      "\n",
      "0it [00:00, ?it/s]\u001B[A\n",
      "  0%|          | 0/24 [00:00<?, ?it/s]\u001B[A\n",
      "Start execution:   0%|          | 0/24 [00:00<?, ?it/s]\u001B[A\n",
      "Executing timestamp 2021-03-23 22:00:00+00:00 for region_tasks scenario_with_grid:   0%|          | 0/24 [00:00<?, ?it/s]\u001B[A\n",
      "Executing timestamp 2021-03-23 22:00:00+00:00 for grid:   0%|          | 0/24 [00:03<?, ?it/s]                           \u001B[A\n",
      "Executing timestamp 2021-03-23 22:00:00+00:00 for grid:   4%|▍         | 1/24 [00:04<01:47,  4.68s/it]\u001B[A\n",
      "Executing timestamp 2021-03-23 23:00:00+00:00 for region_tasks scenario_with_grid:   4%|▍         | 1/24 [00:04<01:47,  4.68s/it]\u001B[A\n",
      "Executing timestamp 2021-03-23 23:00:00+00:00 for grid:   4%|▍         | 1/24 [00:06<01:47,  4.68s/it]                           \u001B[A\n",
      "Executing timestamp 2021-03-23 23:00:00+00:00 for grid:   8%|▊         | 2/24 [00:06<01:06,  3.03s/it]\u001B[A\n",
      "Executing timestamp 2021-03-24 00:00:00+00:00 for region_tasks scenario_with_grid:   8%|▊         | 2/24 [00:06<01:06,  3.03s/it]\u001B[A\n",
      "Executing timestamp 2021-03-24 00:00:00+00:00 for grid:   8%|▊         | 2/24 [00:08<01:06,  3.03s/it]                           \u001B[A\n",
      "Executing timestamp 2021-03-24 00:00:00+00:00 for grid:  12%|█▎        | 3/24 [00:08<00:52,  2.51s/it]\u001B[A\n",
      "Executing timestamp 2021-03-24 01:00:00+00:00 for region_tasks scenario_with_grid:  12%|█▎        | 3/24 [00:08<00:52,  2.51s/it]\u001B[A\n",
      "Executing timestamp 2021-03-24 01:00:00+00:00 for grid:  12%|█▎        | 3/24 [00:10<00:52,  2.51s/it]                           \u001B[A\n",
      "Executing timestamp 2021-03-24 01:00:00+00:00 for grid:  17%|█▋        | 4/24 [00:10<00:45,  2.28s/it]\u001B[A\n",
      "Executing timestamp 2021-03-24 02:00:00+00:00 for region_tasks scenario_with_grid:  17%|█▋        | 4/24 [00:10<00:45,  2.28s/it]\u001B[A\n",
      "Executing timestamp 2021-03-24 02:00:00+00:00 for grid:  17%|█▋        | 4/24 [00:12<00:45,  2.28s/it]                           \u001B[A\n",
      "Executing timestamp 2021-03-24 02:00:00+00:00 for grid:  21%|██        | 5/24 [00:12<00:41,  2.16s/it]\u001B[A\n",
      "Executing timestamp 2021-03-24 03:00:00+00:00 for region_tasks scenario_with_grid:  21%|██        | 5/24 [00:12<00:41,  2.16s/it]\u001B[A\n",
      "Executing timestamp 2021-03-24 03:00:00+00:00 for grid:  21%|██        | 5/24 [00:14<00:41,  2.16s/it]                           \u001B[A\n",
      "Executing timestamp 2021-03-24 03:00:00+00:00 for grid:  25%|██▌       | 6/24 [00:14<00:38,  2.15s/it]\u001B[A\n",
      "Executing timestamp 2021-03-24 04:00:00+00:00 for region_tasks scenario_with_grid:  25%|██▌       | 6/24 [00:14<00:38,  2.15s/it]\u001B[A\n",
      "Executing timestamp 2021-03-24 04:00:00+00:00 for grid:  25%|██▌       | 6/24 [00:16<00:38,  2.15s/it]                           \u001B[A\n",
      "Executing timestamp 2021-03-24 04:00:00+00:00 for grid:  29%|██▉       | 7/24 [00:16<00:36,  2.15s/it]\u001B[A\n",
      "Executing timestamp 2021-03-24 05:00:00+00:00 for region_tasks scenario_with_grid:  29%|██▉       | 7/24 [00:16<00:36,  2.15s/it]\u001B[A\n",
      "Executing timestamp 2021-03-24 05:00:00+00:00 for grid:  29%|██▉       | 7/24 [00:18<00:36,  2.15s/it]                           \u001B[A\n",
      "Executing timestamp 2021-03-24 05:00:00+00:00 for grid:  33%|███▎      | 8/24 [00:18<00:34,  2.14s/it]\u001B[A\n",
      "Executing timestamp 2021-03-24 06:00:00+00:00 for region_tasks scenario_with_grid:  33%|███▎      | 8/24 [00:18<00:34,  2.14s/it]\u001B[A\n",
      "Executing timestamp 2021-03-24 06:00:00+00:00 for grid:  33%|███▎      | 8/24 [00:20<00:34,  2.14s/it]                           \u001B[A\n",
      "Executing timestamp 2021-03-24 06:00:00+00:00 for grid:  38%|███▊      | 9/24 [00:20<00:31,  2.11s/it]\u001B[A\n",
      "Executing timestamp 2021-03-24 07:00:00+00:00 for region_tasks scenario_with_grid:  38%|███▊      | 9/24 [00:20<00:31,  2.11s/it]\u001B[A\n",
      "Executing timestamp 2021-03-24 07:00:00+00:00 for grid:  38%|███▊      | 9/24 [00:22<00:31,  2.11s/it]                           \u001B[A\n",
      "Executing timestamp 2021-03-24 07:00:00+00:00 for grid:  42%|████▏     | 10/24 [00:22<00:29,  2.12s/it]\u001B[A\n",
      "Executing timestamp 2021-03-24 08:00:00+00:00 for region_tasks scenario_with_grid:  42%|████▏     | 10/24 [00:22<00:29,  2.12s/it]\u001B[A\n",
      "Executing timestamp 2021-03-24 08:00:00+00:00 for grid:  42%|████▏     | 10/24 [00:24<00:29,  2.12s/it]                           \u001B[A\n",
      "Executing timestamp 2021-03-24 08:00:00+00:00 for grid:  46%|████▌     | 11/24 [00:25<00:27,  2.13s/it]\u001B[A\n",
      "Executing timestamp 2021-03-24 09:00:00+00:00 for region_tasks scenario_with_grid:  46%|████▌     | 11/24 [00:25<00:27,  2.13s/it]\u001B[A\n",
      "Executing timestamp 2021-03-24 09:00:00+00:00 for grid:  46%|████▌     | 11/24 [00:27<00:27,  2.13s/it]                           \u001B[A\n",
      "Executing timestamp 2021-03-24 09:00:00+00:00 for grid:  50%|█████     | 12/24 [00:27<00:26,  2.17s/it]\u001B[A\n",
      "Executing timestamp 2021-03-24 10:00:00+00:00 for region_tasks scenario_with_grid:  50%|█████     | 12/24 [00:27<00:26,  2.17s/it]\u001B[A\n",
      "Executing timestamp 2021-03-24 10:00:00+00:00 for grid:  50%|█████     | 12/24 [00:29<00:26,  2.17s/it]                           \u001B[A\n",
      "Executing timestamp 2021-03-24 10:00:00+00:00 for grid:  54%|█████▍    | 13/24 [00:29<00:23,  2.15s/it]\u001B[A\n",
      "Executing timestamp 2021-03-24 11:00:00+00:00 for region_tasks scenario_with_grid:  54%|█████▍    | 13/24 [00:29<00:23,  2.15s/it]\u001B[A\n",
      "Executing timestamp 2021-03-24 11:00:00+00:00 for grid:  54%|█████▍    | 13/24 [00:31<00:23,  2.15s/it]                           \u001B[A\n",
      "Executing timestamp 2021-03-24 11:00:00+00:00 for grid:  58%|█████▊    | 14/24 [00:31<00:21,  2.17s/it]\u001B[A\n",
      "Executing timestamp 2021-03-24 12:00:00+00:00 for region_tasks scenario_with_grid:  58%|█████▊    | 14/24 [00:31<00:21,  2.17s/it]\u001B[A\n",
      "Executing timestamp 2021-03-24 12:00:00+00:00 for grid:  58%|█████▊    | 14/24 [00:33<00:21,  2.17s/it]                           \u001B[A\n",
      "Executing timestamp 2021-03-24 12:00:00+00:00 for grid:  62%|██████▎   | 15/24 [00:33<00:19,  2.19s/it]\u001B[A\n",
      "Executing timestamp 2021-03-24 13:00:00+00:00 for region_tasks scenario_with_grid:  62%|██████▎   | 15/24 [00:33<00:19,  2.19s/it]\u001B[A\n",
      "Executing timestamp 2021-03-24 13:00:00+00:00 for grid:  62%|██████▎   | 15/24 [00:36<00:19,  2.19s/it]                           \u001B[A\n",
      "Executing timestamp 2021-03-24 13:00:00+00:00 for grid:  67%|██████▋   | 16/24 [00:36<00:17,  2.21s/it]\u001B[A\n",
      "Executing timestamp 2021-03-24 14:00:00+00:00 for region_tasks scenario_with_grid:  67%|██████▋   | 16/24 [00:36<00:17,  2.21s/it]\u001B[A\n",
      "Executing timestamp 2021-03-24 14:00:00+00:00 for grid:  67%|██████▋   | 16/24 [00:38<00:17,  2.21s/it]                           \u001B[A\n",
      "Executing timestamp 2021-03-24 14:00:00+00:00 for grid:  71%|███████   | 17/24 [00:38<00:15,  2.21s/it]\u001B[A\n",
      "Executing timestamp 2021-03-24 15:00:00+00:00 for region_tasks scenario_with_grid:  71%|███████   | 17/24 [00:38<00:15,  2.21s/it]\u001B[A\n",
      "Executing timestamp 2021-03-24 15:00:00+00:00 for grid:  71%|███████   | 17/24 [00:40<00:15,  2.21s/it]                           \u001B[A\n",
      "Executing timestamp 2021-03-24 15:00:00+00:00 for grid:  75%|███████▌  | 18/24 [00:40<00:13,  2.22s/it]\u001B[A\n",
      "Executing timestamp 2021-03-24 16:00:00+00:00 for region_tasks scenario_with_grid:  75%|███████▌  | 18/24 [00:40<00:13,  2.22s/it]\u001B[A\n",
      "Executing timestamp 2021-03-24 16:00:00+00:00 for grid:  75%|███████▌  | 18/24 [00:42<00:13,  2.22s/it]                           \u001B[A\n",
      "Executing timestamp 2021-03-24 16:00:00+00:00 for grid:  79%|███████▉  | 19/24 [00:42<00:11,  2.24s/it]\u001B[A\n",
      "Executing timestamp 2021-03-24 17:00:00+00:00 for region_tasks scenario_with_grid:  79%|███████▉  | 19/24 [00:42<00:11,  2.24s/it]\u001B[A\n",
      "Executing timestamp 2021-03-24 17:00:00+00:00 for grid:  79%|███████▉  | 19/24 [00:45<00:11,  2.24s/it]                           \u001B[A\n",
      "Executing timestamp 2021-03-24 17:00:00+00:00 for grid:  83%|████████▎ | 20/24 [00:45<00:09,  2.26s/it]\u001B[A\n",
      "Executing timestamp 2021-03-24 18:00:00+00:00 for region_tasks scenario_with_grid:  83%|████████▎ | 20/24 [00:45<00:09,  2.26s/it]\u001B[A\n",
      "Executing timestamp 2021-03-24 18:00:00+00:00 for grid:  83%|████████▎ | 20/24 [00:47<00:09,  2.26s/it]                           \u001B[A\n",
      "Executing timestamp 2021-03-24 18:00:00+00:00 for grid:  88%|████████▊ | 21/24 [00:47<00:06,  2.28s/it]\u001B[A\n",
      "Executing timestamp 2021-03-24 19:00:00+00:00 for region_tasks scenario_with_grid:  88%|████████▊ | 21/24 [00:47<00:06,  2.28s/it]\u001B[A\n",
      "Executing timestamp 2021-03-24 19:00:00+00:00 for grid:  88%|████████▊ | 21/24 [00:49<00:06,  2.28s/it]                           \u001B[A\n",
      "Executing timestamp 2021-03-24 19:00:00+00:00 for grid:  92%|█████████▏| 22/24 [00:49<00:04,  2.30s/it]\u001B[A\n",
      "Executing timestamp 2021-03-24 20:00:00+00:00 for region_tasks scenario_with_grid:  92%|█████████▏| 22/24 [00:49<00:04,  2.30s/it]\u001B[A\n",
      "Executing timestamp 2021-03-24 20:00:00+00:00 for grid:  92%|█████████▏| 22/24 [00:52<00:04,  2.30s/it]                           \u001B[A\n",
      "Executing timestamp 2021-03-24 20:00:00+00:00 for grid:  96%|█████████▌| 23/24 [00:52<00:02,  2.33s/it]\u001B[A\n",
      "Executing timestamp 2021-03-24 21:00:00+00:00 for region_tasks scenario_with_grid:  96%|█████████▌| 23/24 [00:52<00:02,  2.33s/it]\u001B[A\n",
      "Executing timestamp 2021-03-24 21:00:00+00:00 for grid:  96%|█████████▌| 23/24 [00:54<00:02,  2.33s/it]                           \u001B[A\n",
      "Executing timestamp 2021-03-24 21:00:00+00:00 for grid: 100%|██████████| 24/24 [00:54<00:00,  2.34s/it]\u001B[A\n",
      "Simulation finished: 100%|██████████| 24/24 [00:54<00:00,  2.34s/it]                                   \u001B[A"
     ]
    }
   ],
   "execution_count": 5
  },
  {
   "metadata": {},
   "cell_type": "markdown",
   "source": [
    "## Step 4: Scenario Analysis (not yet functional)\n",
    "\n",
    "Analyze and visualize the results obtained from scenario execution.\n",
    "\n",
    "The analysis provides visual insights into scenario outcomes, which helps understand scenario dynamics and performance."
   ],
   "id": "c36e8cb1ac7e45e8"
  },
  {
   "metadata": {},
   "cell_type": "code",
   "source": [
    "# Path to simulation results\n",
    "path_results = f\"../../results/{name}\""
   ],
   "id": "f6071a6fa6329ed5",
   "outputs": [],
   "execution_count": null
  },
  {
   "metadata": {
    "ExecuteTime": {
     "end_time": "2025-03-25T17:13:41.337695Z",
     "start_time": "2025-03-25T17:13:41.337695Z"
    }
   },
   "cell_type": "code",
   "source": [
    "# Instantiate Analyzer and visualize results\n",
    "analyzer = Analyzer(path_results)\n",
    "analyzer.plot_general_analysis()"
   ],
   "id": "76b4578a54b10ef8",
   "outputs": [],
   "execution_count": null
  }
 ],
 "metadata": {
  "kernelspec": {
   "display_name": "Python 3",
   "language": "python",
   "name": "python3"
  },
  "language_info": {
   "codemirror_mode": {
    "name": "ipython",
    "version": 2
   },
   "file_extension": ".py",
   "mimetype": "text/x-python",
   "name": "python",
   "nbconvert_exporter": "python",
   "pygments_lexer": "ipython2",
   "version": "2.7.6"
  }
 },
 "nbformat": 4,
 "nbformat_minor": 5
}
