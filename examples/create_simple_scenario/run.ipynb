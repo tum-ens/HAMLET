{
 "cells": [
  {
   "metadata": {},
   "cell_type": "markdown",
   "source": "# Simple scenario",
   "id": "52cee6f9fac9b8d8"
  },
  {
   "metadata": {},
   "cell_type": "markdown",
   "source": [
    "## Introduction\n",
    "\n",
    "This notebook demonstrates how to set up, execute, and analyze a scenario using the Hamlet tool. Hamlet simplifies simulation processes for energy system scenarios. In this tutorial, we walk through a basic scenario, explaining the required input files and demonstrating the scenario lifecycle."
   ],
   "id": "a40d04d2a8e7e84"
  },
  {
   "metadata": {},
   "cell_type": "markdown",
   "source": [
    "### Required Files\n",
    "\n",
    "The scenario setup uses the following files:\n",
    "- **YAML files:** Define configuration for agents (`agents.yaml`), grids (`grids.yaml`), markets (`markets.yaml`), and scenario setup (`setup.yaml`).\n",
    "- **Excel files:** Contain structured data for agents (`agents.xlsx`).\n",
    "\n",
    "All files are placed in a structured folder (`simple_scenario`). Its name will automatically be used for the scenario name (unless overwritten)."
   ],
   "id": "f713a1df4e1705bf"
  },
  {
   "metadata": {
    "ExecuteTime": {
     "end_time": "2025-03-25T17:13:30.639829Z",
     "start_time": "2025-03-25T17:13:30.636183Z"
    }
   },
   "cell_type": "code",
   "source": "from hamlet import Creator, Executor, Analyzer",
   "id": "7a9661ed99114011",
   "outputs": [],
   "execution_count": 14
  },
  {
   "metadata": {},
   "cell_type": "markdown",
   "source": [
    "## Step 1: Scenario Creation\n",
    "\n",
    "This step generates the scenario based on YAML and Excel configurations."
   ],
   "id": "5d6a032eefeadc54"
  },
  {
   "metadata": {
    "ExecuteTime": {
     "end_time": "2025-03-26T11:19:42.296849Z",
     "start_time": "2025-03-26T11:19:42.293792Z"
    }
   },
   "cell_type": "code",
   "source": [
    "# Path to the scenario configuration folder\n",
    "name = \"simple_scenario\"\n",
    "path_configs = f\"./{name}\""
   ],
   "id": "fa6cfa9f90b0fce4",
   "outputs": [],
   "execution_count": 25
  },
  {
   "metadata": {
    "ExecuteTime": {
     "end_time": "2025-03-26T11:19:45.789344Z",
     "start_time": "2025-03-26T11:19:43.297271Z"
    }
   },
   "cell_type": "code",
   "source": [
    "# Instantiate Creator and generate the scenario\n",
    "creator = Creator(path=path_configs)\n",
    "creator.new_scenario_from_configs()"
   ],
   "id": "4014920d7f11679d",
   "outputs": [
    {
     "name": "stderr",
     "output_type": "stream",
     "text": [
      "\n",
      "\n",
      "Successfully created scenario: 100%|██████████| 9/9 [2:50:16<00:00, 1135.11s/it]\n",
      "\n",
      "\n",
      "  0%|          | 0/9 [00:00<?, ?it/s]\u001B[A\u001B[A\n",
      "\n",
      "Creating the missing agent files::   0%|          | 0/9 [00:00<?, ?it/s]\u001B[A\u001B[A\n",
      "\n",
      "Creating the missing agent files: single_market:   0%|          | 0/9 [00:00<?, ?it/s]\u001B[A\u001B[A\n",
      "\n",
      "Creating the missing agent files: single_market:  11%|█         | 1/9 [00:00<00:03,  2.21it/s]\u001B[A\u001B[A\n",
      "\n",
      "Creating the missing agent files::  11%|█         | 1/9 [00:00<00:03,  2.21it/s]              \u001B[A\u001B[A\n",
      "\n",
      "Creating the missing grid files::  11%|█         | 1/9 [00:00<00:03,  2.21it/s] \u001B[A\u001B[A\n",
      "\n",
      "Creating the missing grid files: single_market:  11%|█         | 1/9 [00:00<00:03,  2.21it/s]\u001B[A\u001B[A\n",
      "\n",
      "Creating the missing grid files::  22%|██▏       | 2/9 [00:00<00:03,  2.21it/s]              \u001B[A\u001B[A\n",
      "\n",
      "Creating the folders for the scenario::  22%|██▏       | 2/9 [00:00<00:03,  2.21it/s]\u001B[A\u001B[A\n",
      "\n",
      "Creating the folders for the scenario::  33%|███▎      | 3/9 [00:00<00:00,  6.05it/s]\u001B[A\u001B[A\n",
      "\n",
      "Creating the markets for each region::  33%|███▎      | 3/9 [00:00<00:00,  6.05it/s] \u001B[A\u001B[A\n",
      "\n",
      "Creating the markets for each region: single_market:  33%|███▎      | 3/9 [00:00<00:00,  6.05it/s]\u001B[A\u001B[A\n",
      "\n",
      "Creating the markets for each region: single_market:  44%|████▍     | 4/9 [00:00<00:00,  5.65it/s]\u001B[A\u001B[A\n",
      "\n",
      "Creating the markets for each region::  44%|████▍     | 4/9 [00:00<00:00,  5.65it/s]              \u001B[A\u001B[A\n",
      "\n",
      "Creating the agents for each region::  44%|████▍     | 4/9 [00:00<00:00,  5.65it/s] \u001B[A\u001B[A\n",
      "\n",
      "Creating the agents for each region: single_market:  44%|████▍     | 4/9 [00:00<00:00,  5.65it/s]\u001B[A\u001B[A\n",
      "\n",
      "Creating the agents for each region: single_market:  56%|█████▌    | 5/9 [00:02<00:02,  1.55it/s]\u001B[A\u001B[A\n",
      "\n",
      "Creating the agents for each region::  56%|█████▌    | 5/9 [00:02<00:02,  1.55it/s]              \u001B[A\u001B[A\n",
      "\n",
      "Copying the grid files from the input folder to the scenario folder::  56%|█████▌    | 5/9 [00:02<00:02,  1.55it/s]\u001B[A\u001B[A\n",
      "\n",
      "Copying the grid files from the input folder to the scenario folder: single_market:  56%|█████▌    | 5/9 [00:02<00:02,  1.55it/s]\u001B[A\u001B[A\n",
      "\n",
      "Copying the grid files from the input folder to the scenario folder::  67%|██████▋   | 6/9 [00:02<00:01,  1.55it/s]              \u001B[A\u001B[A\n",
      "\n",
      "Copying the files from the config folder to the scenario folder::  67%|██████▋   | 6/9 [00:02<00:01,  1.55it/s]    \u001B[A\u001B[A\n",
      "\n",
      "Copying the files from the config folder to the scenario folder: single_market:  67%|██████▋   | 6/9 [00:02<00:01,  1.55it/s]\u001B[A\u001B[A\n",
      "\n",
      "Copying the files from the config folder to the scenario folder::  78%|███████▊  | 7/9 [00:02<00:01,  1.55it/s]              \u001B[A\u001B[A\n",
      "\n",
      "Copying the files from the general config file to the scenario folder::  78%|███████▊  | 7/9 [00:02<00:01,  1.55it/s]\u001B[A\u001B[A\n",
      "\n",
      "Combining the market and grid files::  89%|████████▉ | 8/9 [00:02<00:00,  1.55it/s]                                  \u001B[A\u001B[A\n",
      "\n",
      "Successfully created scenario: 100%|██████████| 9/9 [00:02<00:00,  1.55it/s]       \u001B[A\u001B[A"
     ]
    }
   ],
   "execution_count": 26
  },
  {
   "metadata": {},
   "cell_type": "markdown",
   "source": [
    "**Alternative Creation Methods:**\n",
    "- `creator.new_scenario_from_grids()`: Create a scenario from the electricity grid file (see example \"single_market_with_grid\")\n",
    "- `creator.new_scenario_from_files()`: Create a scenario from the agent.xlsx file instead of the agent.yaml file. This allows you to fine-tune a scenario before creating a scenario from it."
   ],
   "id": "7a7cfb8da9b3a771"
  },
  {
   "metadata": {},
   "cell_type": "markdown",
   "source": [
    "## Step 2: Scenario Execution\n",
    "\n",
    "Execute the scenario created previously. Hamlet runs the defined scenario and produces results.\n",
    "\n",
    "The `num_workers` parameter defines how many CPU cores to use for simulation. It is set to one to not call multiprocessing. To use multiprocessing you need to call it from a python file using the following command:\n",
    "\n",
    "```python\n",
    "\n",
    "if __name__ == \"__main__\":\n",
    "    sim = Executor(path)\n",
    "    sim.run()\n"
   ],
   "id": "569d0670471dcc"
  },
  {
   "metadata": {
    "ExecuteTime": {
     "end_time": "2025-03-25T17:13:33.479730Z",
     "start_time": "2025-03-25T17:13:33.476368Z"
    }
   },
   "cell_type": "code",
   "source": [
    "# Path to the scenario created\n",
    "path_scenario = f\"../../scenarios/{name}\""
   ],
   "id": "7e86ab74409d552c",
   "outputs": [],
   "execution_count": 17
  },
  {
   "metadata": {
    "ExecuteTime": {
     "end_time": "2025-03-26T11:25:04.082186Z",
     "start_time": "2025-03-26T11:23:12.495498Z"
    }
   },
   "cell_type": "code",
   "source": [
    "# Instantiate Executor and run the simulation\n",
    "executor = Executor(path_scenario, num_workers=1)\n",
    "executor.run()"
   ],
   "id": "b6914b3dd53dac0b",
   "outputs": [
    {
     "name": "stderr",
     "output_type": "stream",
     "text": [
      "Simulation finished: 100%|██████████| 24/24 [03:23<00:00,  8.47s/it]\n",
      "Simulation finished: 100%|██████████| 24/24 [01:51<00:00,  5.72s/it]                                                         "
     ]
    }
   ],
   "execution_count": 28
  },
  {
   "metadata": {},
   "cell_type": "markdown",
   "source": [
    "## Step 3: Scenario Analysis (not functional yet)\n",
    "\n",
    "Analyze and visualize the results obtained from scenario execution.\n",
    "\n",
    "The analysis provides visual insights into scenario outcomes, which helps understand scenario dynamics and performance."
   ],
   "id": "c36e8cb1ac7e45e8"
  },
  {
   "metadata": {},
   "cell_type": "code",
   "source": [
    "# Path to simulation results\n",
    "path_results = f\"../../results/{name}\""
   ],
   "id": "f6071a6fa6329ed5",
   "outputs": [],
   "execution_count": null
  },
  {
   "metadata": {
    "ExecuteTime": {
     "end_time": "2025-03-25T17:13:41.337695Z",
     "start_time": "2025-03-25T17:13:41.337695Z"
    }
   },
   "cell_type": "code",
   "source": [
    "# Instantiate Analyzer and visualize results\n",
    "analyzer = Analyzer(path_results)\n",
    "analyzer.plot_general_analysis()"
   ],
   "id": "76b4578a54b10ef8",
   "outputs": [],
   "execution_count": null
  }
 ],
 "metadata": {
  "kernelspec": {
   "display_name": "Python 3",
   "language": "python",
   "name": "python3"
  },
  "language_info": {
   "codemirror_mode": {
    "name": "ipython",
    "version": 2
   },
   "file_extension": ".py",
   "mimetype": "text/x-python",
   "name": "python",
   "nbconvert_exporter": "python",
   "pygments_lexer": "ipython2",
   "version": "2.7.6"
  }
 },
 "nbformat": 4,
 "nbformat_minor": 5
}
